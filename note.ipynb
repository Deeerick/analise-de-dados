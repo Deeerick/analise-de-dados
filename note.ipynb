{
 "cells": [
  {
   "cell_type": "code",
   "execution_count": 44,
   "metadata": {},
   "outputs": [],
   "source": [
    "import pandas as pd\n",
    "import matplotlib.pyplot as plt"
   ]
  },
  {
   "cell_type": "code",
   "execution_count": null,
   "metadata": {},
   "outputs": [],
   "source": [
    "df = pd.read_csv('brasil-cities.csv', sep=';')\n",
    "df = df.loc[:, ['CITY', 'STATE', 'IBGE_POP', 'IDHM_Renda', 'IDHM_Longevidade', 'IDHM_Educacao', 'AREA', 'Cars', 'Motorcycles']]\n",
    "df.head()"
   ]
  },
  {
   "cell_type": "code",
   "execution_count": null,
   "metadata": {},
   "outputs": [],
   "source": [
    "df = df.rename(columns={'CITY': 'Cidade', 'STATE': 'Estado', 'IBGE_POP': 'População', 'Cars': 'Total de Carros', 'Motorcycles': 'Total de Motos'})\n",
    "df.head()"
   ]
  },
  {
   "cell_type": "code",
   "execution_count": null,
   "metadata": {},
   "outputs": [],
   "source": [
    "order_df = df.sort_values(by='População', ascending=False)\n",
    "top5 = order_df.head(5)\n",
    "top5\n",
    "\n",
    "plt.figure(figsize=(8, 3))\n",
    "plt.bar(top5['Estado'], top5['População'], color='skyblue')\n",
    "plt.xlabel('Estado')\n",
    "plt.ylabel('População')\n",
    "plt.title('Top 5 Estados por População')\n",
    "plt.show()"
   ]
  }
 ],
 "metadata": {
  "kernelspec": {
   "display_name": "venv",
   "language": "python",
   "name": "python3"
  },
  "language_info": {
   "codemirror_mode": {
    "name": "ipython",
    "version": 3
   },
   "file_extension": ".py",
   "mimetype": "text/x-python",
   "name": "python",
   "nbconvert_exporter": "python",
   "pygments_lexer": "ipython3",
   "version": "3.12.6"
  }
 },
 "nbformat": 4,
 "nbformat_minor": 2
}
